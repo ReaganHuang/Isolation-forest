{
 "cells": [
  {
   "cell_type": "code",
   "execution_count": 60,
   "metadata": {
    "ExecuteTime": {
     "end_time": "2019-05-20T21:40:04.748115Z",
     "start_time": "2019-05-20T21:40:04.743014Z"
    }
   },
   "outputs": [],
   "source": [
    "import numpy as np\n",
    "import pandas as pd\n",
    "from lolviz import *\n",
    "import lolviz\n",
    "import math\n",
    "from sklearn.metrics import confusion_matrix\n",
    "from scipy import stats\n",
    "import pandas as pd\n",
    "from sklearn.metrics import roc_curve\n",
    "from sklearn.metrics import auc"
   ]
  },
  {
   "cell_type": "code",
   "execution_count": 61,
   "metadata": {
    "ExecuteTime": {
     "end_time": "2019-05-20T21:40:04.985223Z",
     "start_time": "2019-05-20T21:40:04.974177Z"
    }
   },
   "outputs": [],
   "source": [
    "class TreeNode:\n",
    "    def __init__(self, value, p, q, left=None, right=None, n_nodes=1, cdepth = 0, ntype =\"\"):\n",
    "        self.value = value\n",
    "        self.p = p\n",
    "        self.q = q\n",
    "        self.left = left\n",
    "        self.right = right \n",
    "        self.n_nodes = n_nodes\n",
    "        self.cdepth = cdepth\n",
    "        self.ntype = ntype\n",
    "        self.size = len(value)"
   ]
  },
  {
   "cell_type": "code",
   "execution_count": 62,
   "metadata": {
    "ExecuteTime": {
     "end_time": "2019-05-20T21:40:05.270709Z",
     "start_time": "2019-05-20T21:40:05.260269Z"
    }
   },
   "outputs": [],
   "source": [
    "class IsolationTree:\n",
    "    def __init__(self, height_limit):\n",
    "        self.height_limit = height_limit \n",
    "        self.root = None\n",
    "        self.p = None\n",
    "        self.q = None\n",
    "        self.nodes1 =0\n",
    "    \n",
    "\n",
    "    def fit(self, X:np.ndarray, improved=False, depth=0):\n",
    "        \n",
    "\n",
    "        Q = np.arange(np.shape(X)[1])\n",
    "        if depth >= self.height_limit or len(X) <= 1 or (X == X[0]).all()==True:\n",
    "            \n",
    "            left=None\n",
    "            right=None\n",
    "            self.nodes1+=1\n",
    "            self.root = TreeNode(X, self.p, self.q, left, right, n_nodes = self.nodes1, cdepth=depth+1, ntype='external')\n",
    "            return self.root\n",
    "\n",
    "        else:\n",
    "            self.q = np.random.choice(Q)\n",
    "            minimum = min(X[:,self.q])\n",
    "            maximum = max(X[:,self.q])\n",
    "            self.p = np.random.uniform(minimum, maximum)\n",
    "            w = np.where(X[:,self.q] < self.p,True,False)\n",
    "            X_left = X[w]\n",
    "            X_right = X[~w]\n",
    "            self.nodes1+=1\n",
    "\n",
    "            return TreeNode(X, self.p, self.q, self.fit(X_left, depth=depth+1), self.fit(X_right, depth=depth+1), n_nodes = self.nodes1, cdepth=depth+1, ntype='internal')\n"
   ]
  },
  {
   "cell_type": "code",
   "execution_count": 63,
   "metadata": {
    "ExecuteTime": {
     "end_time": "2019-05-20T21:40:05.710963Z",
     "start_time": "2019-05-20T21:40:05.689853Z"
    }
   },
   "outputs": [],
   "source": [
    "class IsolationTreeEnsemble:\n",
    "    def __init__(self, sample_size, n_trees=10):\n",
    "        self.sample_size = sample_size\n",
    "        self.n_trees = n_trees\n",
    "        self.hlim = math.ceil(math.log(sample_size,2))\n",
    "        self.trees=None\n",
    "        #self.path_length=None\n",
    "                              \n",
    "\n",
    "    def fit(self, X:np.ndarray, improved=False):\n",
    "        \"\"\"\n",
    "        Given a 2D matrix of observations, create an ensemble of IsolationTree\n",
    "        objects and store them in a list: self.trees.  Convert DataFrames to\n",
    "        ndarray objects.\n",
    "        \"\"\"\n",
    "        if isinstance(X, pd.DataFrame):\n",
    "            X = X.values\n",
    "\n",
    "        if improved == True:\n",
    "            jb=[stats.jarque_bera(X[:,i])[0] for i in range(X.shape[1])]\n",
    "            X = X[:,np.where(jb > np.quantile(jb, 0.20))[0]]\n",
    "\n",
    "        self.trees=[]\n",
    "        for i in range(self.n_trees):\n",
    "            random_indices = np.random.randint(0, X.shape[0], size=self.sample_size)  # generate N random indices\n",
    "            sub_X = X[random_indices]  # get N samples with replacement\n",
    "            itree = IsolationTree(self.hlim)\n",
    "            individual = itree.fit(sub_X)\n",
    "            self.trees.append(individual)\n",
    "        return self.trees\n",
    "\n",
    "    def path_length(self, X:np.ndarray) -> np.ndarray:\n",
    "        \"\"\"\n",
    "        Given a 2D matrix of observations, X, compute the average path length\n",
    "        for each observation in X.  Compute the path length for x_i using every\n",
    "        tree in self.trees then compute the average for each x_i.  \n",
    "        \"\"\"\n",
    "        path_length_list=[]\n",
    "        for obs in X:\n",
    "            hx=0\n",
    "            for tree in self.trees:\n",
    "                hx += self.single_path(obs, tree)*1.0\n",
    "            ehx = hx/self.n_trees\n",
    "            path_length_list.append(ehx)\n",
    "        return path_length_list\n",
    "\n",
    "    def single_path(self, x, tree):\n",
    "        if tree.ntype =='external':\n",
    "            n=tree.size\n",
    "            if n == 2: return tree.cdepth +1\n",
    "            elif n > 2: return tree.cdepth + 2.0*(np.log(n-1)+0.5772156649) - (2.0*(n-1)/n)\n",
    "            else: return tree.cdepth +0\n",
    "        else:\n",
    "            a = tree.q\n",
    "            tree.cdepth += 1\n",
    "            if x[a] < tree.p:\n",
    "                return self.single_path(x,tree.left)\n",
    "            if x[a] >= tree.p:\n",
    "                return self.single_path(x, tree.right)\n",
    "\n",
    "\n",
    "    def anomaly_score(self, X:np.ndarray) -> np.ndarray:\n",
    "        \"\"\"\n",
    "        Given a 2D matrix of observations, X, compute the anomaly score\n",
    "        for each x_i observation, returning an ndarray of them.\n",
    "        \"\"\"\n",
    "        X = X.values\n",
    "        hx = self.path_length(X)\n",
    "        n = self.sample_size\n",
    "        if n == 2: \n",
    "            deno = 1\n",
    "        elif n > 2:\n",
    "            deno = 2.0*(np.log(n-1)+0.5772156649) - (2.0*(n-1)/n)\n",
    "        else:\n",
    "            deno = 0\n",
    "            \n",
    "        return 2**(-np.divide(hx,deno))\n",
    "    \n",
    "    def predict_from_anomaly_scores(self, scores:np.ndarray, threshold:float) -> np.ndarray:\n",
    "        \"\"\"\n",
    "        Given an array of scores and a score threshold, return an array of\n",
    "        the predictions: 1 for any score >= the threshold and 0 otherwise.\n",
    "        \"\"\"\n",
    "        ones = scores >= threshold\n",
    "        prediction = ones.astype(int)\n",
    "        return prediction"
   ]
  },
  {
   "cell_type": "code",
   "execution_count": 64,
   "metadata": {
    "ExecuteTime": {
     "end_time": "2019-05-20T21:40:09.916949Z",
     "start_time": "2019-05-20T21:40:07.500579Z"
    }
   },
   "outputs": [],
   "source": [
    "# read in the dataset\n",
    "df = pd.read_csv(\"creditcard.csv\")\n",
    "N = 15_000\n",
    "df = df.sample(N)  # grab random subset (too slow otherwise)\n",
    "X, y = df.drop('Class', axis=1), df['Class']"
   ]
  },
  {
   "cell_type": "code",
   "execution_count": 67,
   "metadata": {
    "ExecuteTime": {
     "end_time": "2019-05-20T23:32:16.797664Z",
     "start_time": "2019-05-20T23:32:16.760380Z"
    }
   },
   "outputs": [],
   "source": [
    "# calculate score\n",
    "def score(X, y, n_trees, sample_size):\n",
    "    it = IsolationTreeEnsemble(sample_size=sample_size, n_trees=n_trees)\n",
    "    it.fit(X)\n",
    "    n_nodes = sum([t.n_nodes for t in it.trees])\n",
    "    threshold, fpr = find_TPR_threshold(y, scores, desired_TPR)\n",
    "\n",
    "    y_pred = it.predict_from_anomaly_scores(scores, threshold=threshold)\n",
    "    confusion = confusion_matrix(y, y_pred)\n",
    "    TN, FP, FN, TP = confusion.flat\n",
    "    TPR = TP / (TP + FN)\n",
    "    FPR = FP / (FP + TN)\n",
    "    return TPR, FPR"
   ]
  },
  {
   "cell_type": "code",
   "execution_count": 66,
   "metadata": {
    "ExecuteTime": {
     "end_time": "2019-05-20T21:41:38.296381Z",
     "start_time": "2019-05-20T21:41:02.489103Z"
    }
   },
   "outputs": [
    {
     "data": {
      "text/plain": [
       "0.8033805451630145"
      ]
     },
     "execution_count": 66,
     "metadata": {},
     "output_type": "execute_result"
    }
   ],
   "source": [
    "# calculate AUC \n",
    "it = IsolationTreeEnsemble(sample_size=256, n_trees=300)\n",
    "it.fit(X)\n",
    "n_nodes = sum([t.n_nodes for t in it.trees])\n",
    "scores = it.anomaly_score(X)\n",
    "\n",
    "y_pred = it.predict_from_anomaly_scores(scores, threshold=0.5)\n",
    "false_positive_rate, true_positive_rate, thresholds = roc_curve(y, y_pred)\n",
    "auc(false_positive_rate, true_positive_rate)\n",
    "    "
   ]
  }
 ],
 "metadata": {
  "kernelspec": {
   "display_name": "Python 3",
   "language": "python",
   "name": "python3"
  },
  "language_info": {
   "codemirror_mode": {
    "name": "ipython",
    "version": 3
   },
   "file_extension": ".py",
   "mimetype": "text/x-python",
   "name": "python",
   "nbconvert_exporter": "python",
   "pygments_lexer": "ipython3",
   "version": "3.6.7"
  }
 },
 "nbformat": 4,
 "nbformat_minor": 2
}
